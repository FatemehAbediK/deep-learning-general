{
  "nbformat": 4,
  "nbformat_minor": 0,
  "metadata": {
    "colab": {
      "provenance": [],
      "gpuType": "T4",
      "authorship_tag": "ABX9TyNIFcErzi+zj7rQp1LguHa0",
      "include_colab_link": true
    },
    "kernelspec": {
      "name": "python3",
      "display_name": "Python 3"
    },
    "language_info": {
      "name": "python"
    },
    "accelerator": "GPU"
  },
  "cells": [
    {
      "cell_type": "markdown",
      "metadata": {
        "id": "view-in-github",
        "colab_type": "text"
      },
      "source": [
        "<a href=\"https://colab.research.google.com/github/FatemehAbediK/deep-learning-general/blob/main/CNN_numbers_best_params.ipynb\" target=\"_parent\"><img src=\"https://colab.research.google.com/assets/colab-badge.svg\" alt=\"Open In Colab\"/></a>"
      ]
    },
    {
      "cell_type": "code",
      "execution_count": null,
      "metadata": {
        "id": "KyQop90cs5AQ"
      },
      "outputs": [],
      "source": [
        "from sklearn.datasets import make_classification"
      ]
    },
    {
      "cell_type": "code",
      "source": [
        "x, y = make_classification(n_samples = 1000 , n_features=10 , n_informative=8 , n_redundant=2 , n_classes= 2 ,random_state=0)\n"
      ],
      "metadata": {
        "id": "jr2CFWhRtPSP"
      },
      "execution_count": null,
      "outputs": []
    },
    {
      "cell_type": "code",
      "source": [
        "x.shape , y.shape"
      ],
      "metadata": {
        "colab": {
          "base_uri": "https://localhost:8080/"
        },
        "id": "FOUjSNWXdRy5",
        "outputId": "755a5ebe-ddbc-4ee2-d67f-8e7ab444a2e5"
      },
      "execution_count": null,
      "outputs": [
        {
          "output_type": "execute_result",
          "data": {
            "text/plain": [
              "((1000, 10), (1000,))"
            ]
          },
          "metadata": {},
          "execution_count": 24
        }
      ]
    },
    {
      "cell_type": "code",
      "source": [
        "from sklearn.model_selection import train_test_split\n",
        "x_train ,x_test , y_train , y_test = train_test_split(x,y,test_size = 0.3)\n",
        "\n"
      ],
      "metadata": {
        "id": "1TGopOqPdRuR"
      },
      "execution_count": null,
      "outputs": []
    },
    {
      "cell_type": "code",
      "source": [
        "x_train.shape , y_train.shape"
      ],
      "metadata": {
        "colab": {
          "base_uri": "https://localhost:8080/"
        },
        "id": "RNOacIBDdRmw",
        "outputId": "2f10ff3e-b2ef-41fd-9ce8-30c74da892bb"
      },
      "execution_count": null,
      "outputs": [
        {
          "output_type": "execute_result",
          "data": {
            "text/plain": [
              "((700, 10), (700,))"
            ]
          },
          "metadata": {},
          "execution_count": 26
        }
      ]
    },
    {
      "cell_type": "code",
      "source": [
        "x_test.shape , y_test.shape"
      ],
      "metadata": {
        "colab": {
          "base_uri": "https://localhost:8080/"
        },
        "id": "iVXsXGVedp1i",
        "outputId": "7445eae2-9c40-49cd-e3a3-491da4a264bb"
      },
      "execution_count": null,
      "outputs": [
        {
          "output_type": "execute_result",
          "data": {
            "text/plain": [
              "((300, 10), (300,))"
            ]
          },
          "metadata": {},
          "execution_count": 27
        }
      ]
    },
    {
      "cell_type": "markdown",
      "source": [
        "#model"
      ],
      "metadata": {
        "id": "cBt0ApkUtPk_"
      }
    },
    {
      "cell_type": "code",
      "source": [
        "import tensorflow as tf\n",
        "from tensorflow import keras\n"
      ],
      "metadata": {
        "id": "1XdfkVOAtQYI"
      },
      "execution_count": null,
      "outputs": []
    },
    {
      "cell_type": "markdown",
      "source": [
        "#Grid search & Random search"
      ],
      "metadata": {
        "id": "ZuSpdHgAex9Q"
      }
    },
    {
      "cell_type": "code",
      "source": [
        "from sklearn.model_selection import GridSearchCV\n",
        "from sklearn.model_selection import RandomizedSearchCV"
      ],
      "metadata": {
        "id": "kejNgXvCe0Y_"
      },
      "execution_count": null,
      "outputs": []
    },
    {
      "cell_type": "code",
      "source": [
        "!pip install scikeras"
      ],
      "metadata": {
        "id": "LZAy2fFOe0T-",
        "colab": {
          "base_uri": "https://localhost:8080/"
        },
        "outputId": "1f477da1-28f1-43c3-b366-6c9397b83af7"
      },
      "execution_count": null,
      "outputs": [
        {
          "output_type": "stream",
          "name": "stdout",
          "text": [
            "Requirement already satisfied: scikeras in /usr/local/lib/python3.10/dist-packages (0.13.0)\n",
            "Requirement already satisfied: keras>=3.2.0 in /usr/local/lib/python3.10/dist-packages (from scikeras) (3.4.1)\n",
            "Requirement already satisfied: scikit-learn>=1.4.2 in /usr/local/lib/python3.10/dist-packages (from scikeras) (1.5.2)\n",
            "Requirement already satisfied: absl-py in /usr/local/lib/python3.10/dist-packages (from keras>=3.2.0->scikeras) (1.4.0)\n",
            "Requirement already satisfied: numpy in /usr/local/lib/python3.10/dist-packages (from keras>=3.2.0->scikeras) (1.26.4)\n",
            "Requirement already satisfied: rich in /usr/local/lib/python3.10/dist-packages (from keras>=3.2.0->scikeras) (13.8.1)\n",
            "Requirement already satisfied: namex in /usr/local/lib/python3.10/dist-packages (from keras>=3.2.0->scikeras) (0.0.8)\n",
            "Requirement already satisfied: h5py in /usr/local/lib/python3.10/dist-packages (from keras>=3.2.0->scikeras) (3.11.0)\n",
            "Requirement already satisfied: optree in /usr/local/lib/python3.10/dist-packages (from keras>=3.2.0->scikeras) (0.12.1)\n",
            "Requirement already satisfied: ml-dtypes in /usr/local/lib/python3.10/dist-packages (from keras>=3.2.0->scikeras) (0.4.1)\n",
            "Requirement already satisfied: packaging in /usr/local/lib/python3.10/dist-packages (from keras>=3.2.0->scikeras) (24.1)\n",
            "Requirement already satisfied: scipy>=1.6.0 in /usr/local/lib/python3.10/dist-packages (from scikit-learn>=1.4.2->scikeras) (1.13.1)\n",
            "Requirement already satisfied: joblib>=1.2.0 in /usr/local/lib/python3.10/dist-packages (from scikit-learn>=1.4.2->scikeras) (1.4.2)\n",
            "Requirement already satisfied: threadpoolctl>=3.1.0 in /usr/local/lib/python3.10/dist-packages (from scikit-learn>=1.4.2->scikeras) (3.5.0)\n",
            "Requirement already satisfied: typing-extensions>=4.5.0 in /usr/local/lib/python3.10/dist-packages (from optree->keras>=3.2.0->scikeras) (4.12.2)\n",
            "Requirement already satisfied: markdown-it-py>=2.2.0 in /usr/local/lib/python3.10/dist-packages (from rich->keras>=3.2.0->scikeras) (3.0.0)\n",
            "Requirement already satisfied: pygments<3.0.0,>=2.13.0 in /usr/local/lib/python3.10/dist-packages (from rich->keras>=3.2.0->scikeras) (2.18.0)\n",
            "Requirement already satisfied: mdurl~=0.1 in /usr/local/lib/python3.10/dist-packages (from markdown-it-py>=2.2.0->rich->keras>=3.2.0->scikeras) (0.1.2)\n"
          ]
        }
      ]
    },
    {
      "cell_type": "code",
      "source": [
        "import sklearn\n",
        "from scikeras.wrappers import KerasClassifier\n"
      ],
      "metadata": {
        "id": "FXbDtrKPe0KC"
      },
      "execution_count": null,
      "outputs": []
    },
    {
      "cell_type": "code",
      "source": [
        "def create_model(hidden_units, optimizer='adam', input_shape=(10 ,)):\n",
        "    model = keras.Sequential()\n",
        "    model.add(keras.layers.Dense(units=hidden_units, activation='relu' , input_shape=input_shape))\n",
        "    model.add(keras.layers.Dense(units=1, activation='sigmoid'))\n",
        "\n",
        "    model.compile(optimizer=optimizer, loss=tf.losses.binary_crossentropy, metrics=['accuracy'])\n",
        "    return model\n",
        "\n",
        "#input_layer:n_features\n",
        "#input_dim=n_features=10\n",
        "\n",
        "# Wrap the model using KerasClassifier\n",
        "model = KerasClassifier(model=create_model, epochs=10, batch_size=32, verbose=0)\n",
        "\n",
        "# Define the parameter grid\n",
        "params = {\n",
        "    'model__hidden_units': [16, 32, 64],\n",
        "    'model__optimizer': ['adam', 'rmsprop']\n",
        "}\n",
        "\n",
        "# Perform GridSearch\n",
        "grid = GridSearchCV(estimator=model, param_grid=params, cv=3)\n",
        "grid_results = grid.fit(x_train, y_train)\n",
        "\n",
        "# Perform RandomizedSearch\n",
        "rs = RandomizedSearchCV(estimator=model, param_distributions=params, cv=3, n_iter=5)\n",
        "rs_results = rs.fit(x_train, y_train)"
      ],
      "metadata": {
        "id": "MgwPXmSprcbb",
        "colab": {
          "base_uri": "https://localhost:8080/"
        },
        "outputId": "8ba4f107-a472-479d-bc82-86d3051102b0"
      },
      "execution_count": null,
      "outputs": [
        {
          "output_type": "stream",
          "name": "stderr",
          "text": [
            "/usr/local/lib/python3.10/dist-packages/keras/src/layers/core/dense.py:87: UserWarning: Do not pass an `input_shape`/`input_dim` argument to a layer. When using Sequential models, prefer using an `Input(shape)` object as the first layer in the model instead.\n",
            "  super().__init__(activity_regularizer=activity_regularizer, **kwargs)\n",
            "/usr/local/lib/python3.10/dist-packages/keras/src/layers/core/dense.py:87: UserWarning: Do not pass an `input_shape`/`input_dim` argument to a layer. When using Sequential models, prefer using an `Input(shape)` object as the first layer in the model instead.\n",
            "  super().__init__(activity_regularizer=activity_regularizer, **kwargs)\n",
            "/usr/local/lib/python3.10/dist-packages/keras/src/layers/core/dense.py:87: UserWarning: Do not pass an `input_shape`/`input_dim` argument to a layer. When using Sequential models, prefer using an `Input(shape)` object as the first layer in the model instead.\n",
            "  super().__init__(activity_regularizer=activity_regularizer, **kwargs)\n",
            "WARNING:tensorflow:5 out of the last 17 calls to <function TensorFlowTrainer.make_predict_function.<locals>.one_step_on_data_distributed at 0x7dfd9045ef80> triggered tf.function retracing. Tracing is expensive and the excessive number of tracings could be due to (1) creating @tf.function repeatedly in a loop, (2) passing tensors with different shapes, (3) passing Python objects instead of tensors. For (1), please define your @tf.function outside of the loop. For (2), @tf.function has reduce_retracing=True option that can avoid unnecessary retracing. For (3), please refer to https://www.tensorflow.org/guide/function#controlling_retracing and https://www.tensorflow.org/api_docs/python/tf/function for  more details.\n",
            "/usr/local/lib/python3.10/dist-packages/keras/src/layers/core/dense.py:87: UserWarning: Do not pass an `input_shape`/`input_dim` argument to a layer. When using Sequential models, prefer using an `Input(shape)` object as the first layer in the model instead.\n",
            "  super().__init__(activity_regularizer=activity_regularizer, **kwargs)\n",
            "WARNING:tensorflow:5 out of the last 17 calls to <function TensorFlowTrainer.make_predict_function.<locals>.one_step_on_data_distributed at 0x7dfd90253a30> triggered tf.function retracing. Tracing is expensive and the excessive number of tracings could be due to (1) creating @tf.function repeatedly in a loop, (2) passing tensors with different shapes, (3) passing Python objects instead of tensors. For (1), please define your @tf.function outside of the loop. For (2), @tf.function has reduce_retracing=True option that can avoid unnecessary retracing. For (3), please refer to https://www.tensorflow.org/guide/function#controlling_retracing and https://www.tensorflow.org/api_docs/python/tf/function for  more details.\n",
            "/usr/local/lib/python3.10/dist-packages/keras/src/layers/core/dense.py:87: UserWarning: Do not pass an `input_shape`/`input_dim` argument to a layer. When using Sequential models, prefer using an `Input(shape)` object as the first layer in the model instead.\n",
            "  super().__init__(activity_regularizer=activity_regularizer, **kwargs)\n",
            "/usr/local/lib/python3.10/dist-packages/keras/src/layers/core/dense.py:87: UserWarning: Do not pass an `input_shape`/`input_dim` argument to a layer. When using Sequential models, prefer using an `Input(shape)` object as the first layer in the model instead.\n",
            "  super().__init__(activity_regularizer=activity_regularizer, **kwargs)\n",
            "/usr/local/lib/python3.10/dist-packages/keras/src/layers/core/dense.py:87: UserWarning: Do not pass an `input_shape`/`input_dim` argument to a layer. When using Sequential models, prefer using an `Input(shape)` object as the first layer in the model instead.\n",
            "  super().__init__(activity_regularizer=activity_regularizer, **kwargs)\n",
            "/usr/local/lib/python3.10/dist-packages/keras/src/layers/core/dense.py:87: UserWarning: Do not pass an `input_shape`/`input_dim` argument to a layer. When using Sequential models, prefer using an `Input(shape)` object as the first layer in the model instead.\n",
            "  super().__init__(activity_regularizer=activity_regularizer, **kwargs)\n",
            "/usr/local/lib/python3.10/dist-packages/keras/src/layers/core/dense.py:87: UserWarning: Do not pass an `input_shape`/`input_dim` argument to a layer. When using Sequential models, prefer using an `Input(shape)` object as the first layer in the model instead.\n",
            "  super().__init__(activity_regularizer=activity_regularizer, **kwargs)\n",
            "/usr/local/lib/python3.10/dist-packages/keras/src/layers/core/dense.py:87: UserWarning: Do not pass an `input_shape`/`input_dim` argument to a layer. When using Sequential models, prefer using an `Input(shape)` object as the first layer in the model instead.\n",
            "  super().__init__(activity_regularizer=activity_regularizer, **kwargs)\n",
            "/usr/local/lib/python3.10/dist-packages/keras/src/layers/core/dense.py:87: UserWarning: Do not pass an `input_shape`/`input_dim` argument to a layer. When using Sequential models, prefer using an `Input(shape)` object as the first layer in the model instead.\n",
            "  super().__init__(activity_regularizer=activity_regularizer, **kwargs)\n",
            "/usr/local/lib/python3.10/dist-packages/keras/src/layers/core/dense.py:87: UserWarning: Do not pass an `input_shape`/`input_dim` argument to a layer. When using Sequential models, prefer using an `Input(shape)` object as the first layer in the model instead.\n",
            "  super().__init__(activity_regularizer=activity_regularizer, **kwargs)\n",
            "/usr/local/lib/python3.10/dist-packages/keras/src/layers/core/dense.py:87: UserWarning: Do not pass an `input_shape`/`input_dim` argument to a layer. When using Sequential models, prefer using an `Input(shape)` object as the first layer in the model instead.\n",
            "  super().__init__(activity_regularizer=activity_regularizer, **kwargs)\n",
            "/usr/local/lib/python3.10/dist-packages/keras/src/layers/core/dense.py:87: UserWarning: Do not pass an `input_shape`/`input_dim` argument to a layer. When using Sequential models, prefer using an `Input(shape)` object as the first layer in the model instead.\n",
            "  super().__init__(activity_regularizer=activity_regularizer, **kwargs)\n",
            "/usr/local/lib/python3.10/dist-packages/keras/src/layers/core/dense.py:87: UserWarning: Do not pass an `input_shape`/`input_dim` argument to a layer. When using Sequential models, prefer using an `Input(shape)` object as the first layer in the model instead.\n",
            "  super().__init__(activity_regularizer=activity_regularizer, **kwargs)\n",
            "/usr/local/lib/python3.10/dist-packages/keras/src/layers/core/dense.py:87: UserWarning: Do not pass an `input_shape`/`input_dim` argument to a layer. When using Sequential models, prefer using an `Input(shape)` object as the first layer in the model instead.\n",
            "  super().__init__(activity_regularizer=activity_regularizer, **kwargs)\n",
            "/usr/local/lib/python3.10/dist-packages/keras/src/layers/core/dense.py:87: UserWarning: Do not pass an `input_shape`/`input_dim` argument to a layer. When using Sequential models, prefer using an `Input(shape)` object as the first layer in the model instead.\n",
            "  super().__init__(activity_regularizer=activity_regularizer, **kwargs)\n",
            "/usr/local/lib/python3.10/dist-packages/keras/src/layers/core/dense.py:87: UserWarning: Do not pass an `input_shape`/`input_dim` argument to a layer. When using Sequential models, prefer using an `Input(shape)` object as the first layer in the model instead.\n",
            "  super().__init__(activity_regularizer=activity_regularizer, **kwargs)\n",
            "/usr/local/lib/python3.10/dist-packages/numpy/ma/core.py:2820: RuntimeWarning: invalid value encountered in cast\n",
            "  _data = np.array(data, dtype=dtype, copy=copy,\n",
            "/usr/local/lib/python3.10/dist-packages/keras/src/layers/core/dense.py:87: UserWarning: Do not pass an `input_shape`/`input_dim` argument to a layer. When using Sequential models, prefer using an `Input(shape)` object as the first layer in the model instead.\n",
            "  super().__init__(activity_regularizer=activity_regularizer, **kwargs)\n",
            "/usr/local/lib/python3.10/dist-packages/keras/src/layers/core/dense.py:87: UserWarning: Do not pass an `input_shape`/`input_dim` argument to a layer. When using Sequential models, prefer using an `Input(shape)` object as the first layer in the model instead.\n",
            "  super().__init__(activity_regularizer=activity_regularizer, **kwargs)\n",
            "/usr/local/lib/python3.10/dist-packages/keras/src/layers/core/dense.py:87: UserWarning: Do not pass an `input_shape`/`input_dim` argument to a layer. When using Sequential models, prefer using an `Input(shape)` object as the first layer in the model instead.\n",
            "  super().__init__(activity_regularizer=activity_regularizer, **kwargs)\n",
            "/usr/local/lib/python3.10/dist-packages/keras/src/layers/core/dense.py:87: UserWarning: Do not pass an `input_shape`/`input_dim` argument to a layer. When using Sequential models, prefer using an `Input(shape)` object as the first layer in the model instead.\n",
            "  super().__init__(activity_regularizer=activity_regularizer, **kwargs)\n",
            "/usr/local/lib/python3.10/dist-packages/keras/src/layers/core/dense.py:87: UserWarning: Do not pass an `input_shape`/`input_dim` argument to a layer. When using Sequential models, prefer using an `Input(shape)` object as the first layer in the model instead.\n",
            "  super().__init__(activity_regularizer=activity_regularizer, **kwargs)\n",
            "/usr/local/lib/python3.10/dist-packages/keras/src/layers/core/dense.py:87: UserWarning: Do not pass an `input_shape`/`input_dim` argument to a layer. When using Sequential models, prefer using an `Input(shape)` object as the first layer in the model instead.\n",
            "  super().__init__(activity_regularizer=activity_regularizer, **kwargs)\n",
            "/usr/local/lib/python3.10/dist-packages/keras/src/layers/core/dense.py:87: UserWarning: Do not pass an `input_shape`/`input_dim` argument to a layer. When using Sequential models, prefer using an `Input(shape)` object as the first layer in the model instead.\n",
            "  super().__init__(activity_regularizer=activity_regularizer, **kwargs)\n",
            "/usr/local/lib/python3.10/dist-packages/keras/src/layers/core/dense.py:87: UserWarning: Do not pass an `input_shape`/`input_dim` argument to a layer. When using Sequential models, prefer using an `Input(shape)` object as the first layer in the model instead.\n",
            "  super().__init__(activity_regularizer=activity_regularizer, **kwargs)\n",
            "/usr/local/lib/python3.10/dist-packages/keras/src/layers/core/dense.py:87: UserWarning: Do not pass an `input_shape`/`input_dim` argument to a layer. When using Sequential models, prefer using an `Input(shape)` object as the first layer in the model instead.\n",
            "  super().__init__(activity_regularizer=activity_regularizer, **kwargs)\n",
            "/usr/local/lib/python3.10/dist-packages/keras/src/layers/core/dense.py:87: UserWarning: Do not pass an `input_shape`/`input_dim` argument to a layer. When using Sequential models, prefer using an `Input(shape)` object as the first layer in the model instead.\n",
            "  super().__init__(activity_regularizer=activity_regularizer, **kwargs)\n",
            "/usr/local/lib/python3.10/dist-packages/keras/src/layers/core/dense.py:87: UserWarning: Do not pass an `input_shape`/`input_dim` argument to a layer. When using Sequential models, prefer using an `Input(shape)` object as the first layer in the model instead.\n",
            "  super().__init__(activity_regularizer=activity_regularizer, **kwargs)\n",
            "/usr/local/lib/python3.10/dist-packages/keras/src/layers/core/dense.py:87: UserWarning: Do not pass an `input_shape`/`input_dim` argument to a layer. When using Sequential models, prefer using an `Input(shape)` object as the first layer in the model instead.\n",
            "  super().__init__(activity_regularizer=activity_regularizer, **kwargs)\n",
            "/usr/local/lib/python3.10/dist-packages/keras/src/layers/core/dense.py:87: UserWarning: Do not pass an `input_shape`/`input_dim` argument to a layer. When using Sequential models, prefer using an `Input(shape)` object as the first layer in the model instead.\n",
            "  super().__init__(activity_regularizer=activity_regularizer, **kwargs)\n",
            "/usr/local/lib/python3.10/dist-packages/keras/src/layers/core/dense.py:87: UserWarning: Do not pass an `input_shape`/`input_dim` argument to a layer. When using Sequential models, prefer using an `Input(shape)` object as the first layer in the model instead.\n",
            "  super().__init__(activity_regularizer=activity_regularizer, **kwargs)\n",
            "/usr/local/lib/python3.10/dist-packages/keras/src/layers/core/dense.py:87: UserWarning: Do not pass an `input_shape`/`input_dim` argument to a layer. When using Sequential models, prefer using an `Input(shape)` object as the first layer in the model instead.\n",
            "  super().__init__(activity_regularizer=activity_regularizer, **kwargs)\n",
            "/usr/local/lib/python3.10/dist-packages/keras/src/layers/core/dense.py:87: UserWarning: Do not pass an `input_shape`/`input_dim` argument to a layer. When using Sequential models, prefer using an `Input(shape)` object as the first layer in the model instead.\n",
            "  super().__init__(activity_regularizer=activity_regularizer, **kwargs)\n",
            "/usr/local/lib/python3.10/dist-packages/numpy/ma/core.py:2820: RuntimeWarning: invalid value encountered in cast\n",
            "  _data = np.array(data, dtype=dtype, copy=copy,\n",
            "/usr/local/lib/python3.10/dist-packages/keras/src/layers/core/dense.py:87: UserWarning: Do not pass an `input_shape`/`input_dim` argument to a layer. When using Sequential models, prefer using an `Input(shape)` object as the first layer in the model instead.\n",
            "  super().__init__(activity_regularizer=activity_regularizer, **kwargs)\n"
          ]
        }
      ]
    },
    {
      "cell_type": "code",
      "source": [
        "grid_results.best_params_"
      ],
      "metadata": {
        "id": "0hsY9cNQrcXP",
        "colab": {
          "base_uri": "https://localhost:8080/"
        },
        "outputId": "1305f804-b289-40b1-ea9e-6353a9b50ef1"
      },
      "execution_count": null,
      "outputs": [
        {
          "output_type": "execute_result",
          "data": {
            "text/plain": [
              "{'model__hidden_units': 64, 'model__optimizer': 'adam'}"
            ]
          },
          "metadata": {},
          "execution_count": 39
        }
      ]
    },
    {
      "cell_type": "code",
      "source": [
        "rs_results.best_params_"
      ],
      "metadata": {
        "colab": {
          "base_uri": "https://localhost:8080/"
        },
        "id": "mpOWvBVTTct1",
        "outputId": "aca69e3d-e479-405b-ed3a-ecebecbb2e86"
      },
      "execution_count": null,
      "outputs": [
        {
          "output_type": "execute_result",
          "data": {
            "text/plain": [
              "{'model__optimizer': 'rmsprop', 'model__hidden_units': 64}"
            ]
          },
          "metadata": {},
          "execution_count": 40
        }
      ]
    },
    {
      "cell_type": "markdown",
      "source": [
        "#kfold cross validation"
      ],
      "metadata": {
        "id": "c_hmFn0Utdgu"
      }
    },
    {
      "cell_type": "code",
      "source": [
        "from sklearn.model_selection import StratifiedKFold\n",
        "from sklearn.metrics import accuracy_score\n",
        "\n",
        "kf=StratifiedKFold(n_splits=5 , shuffle=True)"
      ],
      "metadata": {
        "id": "MooiaWpiZDH7"
      },
      "execution_count": null,
      "outputs": []
    },
    {
      "cell_type": "code",
      "source": [
        "acc_total=[]\n",
        "for train_index , validation_index in kf.split(x,y):\n",
        "  x_train = x[train_index]\n",
        "  y_train = y[train_index]\n",
        "\n",
        "  x_validation = x[validation_index]\n",
        "  y_validation = y[validation_index]\n",
        "\n",
        "#from the best params:hidden_units=64\n",
        "  model=create_model(hidden_units=64)\n",
        "  model.fit(x_train , y_train , epochs=20 , batch_size = 64 , validation_data=(x_validation , y_validation) , verbose=2)\n",
        "\n",
        "  y_pred = model.predict(x_validation)\n",
        "  y_pred =(y_pred>0.5).astype(\"int32\")\n",
        "\n",
        "  acc = accuracy_score(y_true =y_validation , y_pred=y_pred)\n",
        "  acc_total.append(acc)"
      ],
      "metadata": {
        "id": "Fz4pDLSsZC7X",
        "colab": {
          "base_uri": "https://localhost:8080/"
        },
        "outputId": "1beb6fdc-62f8-475a-d002-3a60dee046b2"
      },
      "execution_count": null,
      "outputs": [
        {
          "output_type": "stream",
          "name": "stdout",
          "text": [
            "Epoch 1/20\n"
          ]
        },
        {
          "output_type": "stream",
          "name": "stderr",
          "text": [
            "/usr/local/lib/python3.10/dist-packages/keras/src/layers/core/dense.py:87: UserWarning: Do not pass an `input_shape`/`input_dim` argument to a layer. When using Sequential models, prefer using an `Input(shape)` object as the first layer in the model instead.\n",
            "  super().__init__(activity_regularizer=activity_regularizer, **kwargs)\n"
          ]
        },
        {
          "output_type": "stream",
          "name": "stdout",
          "text": [
            "13/13 - 2s - 185ms/step - accuracy: 0.4663 - loss: 0.7655 - val_accuracy: 0.6250 - val_loss: 0.6281\n",
            "Epoch 2/20\n",
            "13/13 - 1s - 65ms/step - accuracy: 0.7250 - loss: 0.5556 - val_accuracy: 0.8200 - val_loss: 0.4605\n",
            "Epoch 3/20\n",
            "13/13 - 0s - 10ms/step - accuracy: 0.8700 - loss: 0.4330 - val_accuracy: 0.9150 - val_loss: 0.3662\n",
            "Epoch 4/20\n",
            "13/13 - 0s - 10ms/step - accuracy: 0.8938 - loss: 0.3611 - val_accuracy: 0.9300 - val_loss: 0.3123\n",
            "Epoch 5/20\n",
            "13/13 - 0s - 9ms/step - accuracy: 0.9150 - loss: 0.3162 - val_accuracy: 0.9350 - val_loss: 0.2773\n",
            "Epoch 6/20\n",
            "13/13 - 0s - 4ms/step - accuracy: 0.9200 - loss: 0.2853 - val_accuracy: 0.9450 - val_loss: 0.2530\n",
            "Epoch 7/20\n",
            "13/13 - 0s - 11ms/step - accuracy: 0.9262 - loss: 0.2632 - val_accuracy: 0.9450 - val_loss: 0.2337\n",
            "Epoch 8/20\n",
            "13/13 - 0s - 9ms/step - accuracy: 0.9262 - loss: 0.2461 - val_accuracy: 0.9550 - val_loss: 0.2189\n",
            "Epoch 9/20\n",
            "13/13 - 0s - 6ms/step - accuracy: 0.9337 - loss: 0.2329 - val_accuracy: 0.9600 - val_loss: 0.2072\n",
            "Epoch 10/20\n",
            "13/13 - 0s - 5ms/step - accuracy: 0.9375 - loss: 0.2218 - val_accuracy: 0.9650 - val_loss: 0.1979\n",
            "Epoch 11/20\n",
            "13/13 - 0s - 5ms/step - accuracy: 0.9400 - loss: 0.2129 - val_accuracy: 0.9550 - val_loss: 0.1900\n",
            "Epoch 12/20\n",
            "13/13 - 0s - 9ms/step - accuracy: 0.9425 - loss: 0.2055 - val_accuracy: 0.9600 - val_loss: 0.1831\n",
            "Epoch 13/20\n",
            "13/13 - 0s - 4ms/step - accuracy: 0.9413 - loss: 0.1992 - val_accuracy: 0.9600 - val_loss: 0.1773\n",
            "Epoch 14/20\n",
            "13/13 - 0s - 4ms/step - accuracy: 0.9425 - loss: 0.1937 - val_accuracy: 0.9600 - val_loss: 0.1733\n",
            "Epoch 15/20\n",
            "13/13 - 0s - 13ms/step - accuracy: 0.9463 - loss: 0.1888 - val_accuracy: 0.9650 - val_loss: 0.1682\n",
            "Epoch 16/20\n",
            "13/13 - 0s - 6ms/step - accuracy: 0.9463 - loss: 0.1844 - val_accuracy: 0.9700 - val_loss: 0.1628\n",
            "Epoch 17/20\n",
            "13/13 - 0s - 12ms/step - accuracy: 0.9488 - loss: 0.1806 - val_accuracy: 0.9700 - val_loss: 0.1602\n",
            "Epoch 18/20\n",
            "13/13 - 0s - 11ms/step - accuracy: 0.9488 - loss: 0.1770 - val_accuracy: 0.9700 - val_loss: 0.1566\n",
            "Epoch 19/20\n",
            "13/13 - 0s - 9ms/step - accuracy: 0.9488 - loss: 0.1740 - val_accuracy: 0.9700 - val_loss: 0.1544\n",
            "Epoch 20/20\n",
            "13/13 - 0s - 11ms/step - accuracy: 0.9488 - loss: 0.1714 - val_accuracy: 0.9650 - val_loss: 0.1510\n",
            "\u001b[1m7/7\u001b[0m \u001b[32m━━━━━━━━━━━━━━━━━━━━\u001b[0m\u001b[37m\u001b[0m \u001b[1m0s\u001b[0m 38ms/step\n",
            "Epoch 1/20\n"
          ]
        },
        {
          "output_type": "stream",
          "name": "stderr",
          "text": [
            "/usr/local/lib/python3.10/dist-packages/keras/src/layers/core/dense.py:87: UserWarning: Do not pass an `input_shape`/`input_dim` argument to a layer. When using Sequential models, prefer using an `Input(shape)` object as the first layer in the model instead.\n",
            "  super().__init__(activity_regularizer=activity_regularizer, **kwargs)\n"
          ]
        },
        {
          "output_type": "stream",
          "name": "stdout",
          "text": [
            "13/13 - 2s - 179ms/step - accuracy: 0.4500 - loss: 0.8041 - val_accuracy: 0.6250 - val_loss: 0.6590\n",
            "Epoch 2/20\n",
            "13/13 - 0s - 5ms/step - accuracy: 0.6975 - loss: 0.5936 - val_accuracy: 0.7650 - val_loss: 0.4997\n",
            "Epoch 3/20\n",
            "13/13 - 0s - 4ms/step - accuracy: 0.8163 - loss: 0.4730 - val_accuracy: 0.8500 - val_loss: 0.4067\n",
            "Epoch 4/20\n",
            "13/13 - 0s - 4ms/step - accuracy: 0.8650 - loss: 0.4000 - val_accuracy: 0.8800 - val_loss: 0.3496\n",
            "Epoch 5/20\n",
            "13/13 - 0s - 6ms/step - accuracy: 0.8813 - loss: 0.3527 - val_accuracy: 0.8950 - val_loss: 0.3120\n",
            "Epoch 6/20\n",
            "13/13 - 0s - 9ms/step - accuracy: 0.8988 - loss: 0.3193 - val_accuracy: 0.9100 - val_loss: 0.2860\n",
            "Epoch 7/20\n",
            "13/13 - 0s - 5ms/step - accuracy: 0.9150 - loss: 0.2938 - val_accuracy: 0.9200 - val_loss: 0.2671\n",
            "Epoch 8/20\n",
            "13/13 - 0s - 11ms/step - accuracy: 0.9225 - loss: 0.2734 - val_accuracy: 0.9200 - val_loss: 0.2514\n",
            "Epoch 9/20\n",
            "13/13 - 0s - 11ms/step - accuracy: 0.9250 - loss: 0.2568 - val_accuracy: 0.9200 - val_loss: 0.2392\n",
            "Epoch 10/20\n",
            "13/13 - 0s - 5ms/step - accuracy: 0.9287 - loss: 0.2425 - val_accuracy: 0.9200 - val_loss: 0.2310\n",
            "Epoch 11/20\n",
            "13/13 - 0s - 10ms/step - accuracy: 0.9312 - loss: 0.2310 - val_accuracy: 0.9200 - val_loss: 0.2225\n",
            "Epoch 12/20\n",
            "13/13 - 0s - 10ms/step - accuracy: 0.9350 - loss: 0.2213 - val_accuracy: 0.9250 - val_loss: 0.2169\n",
            "Epoch 13/20\n",
            "13/13 - 0s - 11ms/step - accuracy: 0.9400 - loss: 0.2121 - val_accuracy: 0.9250 - val_loss: 0.2107\n",
            "Epoch 14/20\n",
            "13/13 - 0s - 9ms/step - accuracy: 0.9400 - loss: 0.2041 - val_accuracy: 0.9250 - val_loss: 0.2058\n",
            "Epoch 15/20\n",
            "13/13 - 0s - 6ms/step - accuracy: 0.9438 - loss: 0.1972 - val_accuracy: 0.9250 - val_loss: 0.2026\n",
            "Epoch 16/20\n",
            "13/13 - 0s - 9ms/step - accuracy: 0.9450 - loss: 0.1913 - val_accuracy: 0.9250 - val_loss: 0.1993\n",
            "Epoch 17/20\n",
            "13/13 - 0s - 4ms/step - accuracy: 0.9488 - loss: 0.1858 - val_accuracy: 0.9300 - val_loss: 0.1945\n",
            "Epoch 18/20\n",
            "13/13 - 0s - 4ms/step - accuracy: 0.9475 - loss: 0.1808 - val_accuracy: 0.9300 - val_loss: 0.1935\n",
            "Epoch 19/20\n",
            "13/13 - 0s - 5ms/step - accuracy: 0.9488 - loss: 0.1765 - val_accuracy: 0.9250 - val_loss: 0.1919\n",
            "Epoch 20/20\n",
            "13/13 - 0s - 11ms/step - accuracy: 0.9513 - loss: 0.1721 - val_accuracy: 0.9350 - val_loss: 0.1889\n",
            "\u001b[1m7/7\u001b[0m \u001b[32m━━━━━━━━━━━━━━━━━━━━\u001b[0m\u001b[37m\u001b[0m \u001b[1m0s\u001b[0m 18ms/step\n",
            "Epoch 1/20\n"
          ]
        },
        {
          "output_type": "stream",
          "name": "stderr",
          "text": [
            "/usr/local/lib/python3.10/dist-packages/keras/src/layers/core/dense.py:87: UserWarning: Do not pass an `input_shape`/`input_dim` argument to a layer. When using Sequential models, prefer using an `Input(shape)` object as the first layer in the model instead.\n",
            "  super().__init__(activity_regularizer=activity_regularizer, **kwargs)\n"
          ]
        },
        {
          "output_type": "stream",
          "name": "stdout",
          "text": [
            "13/13 - 3s - 200ms/step - accuracy: 0.7588 - loss: 0.5712 - val_accuracy: 0.8150 - val_loss: 0.5031\n",
            "Epoch 2/20\n",
            "13/13 - 1s - 93ms/step - accuracy: 0.8475 - loss: 0.4473 - val_accuracy: 0.8650 - val_loss: 0.4091\n",
            "Epoch 3/20\n",
            "13/13 - 0s - 12ms/step - accuracy: 0.8775 - loss: 0.3770 - val_accuracy: 0.9000 - val_loss: 0.3460\n",
            "Epoch 4/20\n",
            "13/13 - 0s - 12ms/step - accuracy: 0.8913 - loss: 0.3313 - val_accuracy: 0.9200 - val_loss: 0.3030\n",
            "Epoch 5/20\n",
            "13/13 - 0s - 10ms/step - accuracy: 0.8988 - loss: 0.3018 - val_accuracy: 0.9250 - val_loss: 0.2741\n",
            "Epoch 6/20\n",
            "13/13 - 0s - 6ms/step - accuracy: 0.9050 - loss: 0.2794 - val_accuracy: 0.9250 - val_loss: 0.2535\n",
            "Epoch 7/20\n",
            "13/13 - 0s - 4ms/step - accuracy: 0.9125 - loss: 0.2635 - val_accuracy: 0.9350 - val_loss: 0.2336\n",
            "Epoch 8/20\n",
            "13/13 - 0s - 5ms/step - accuracy: 0.9162 - loss: 0.2500 - val_accuracy: 0.9350 - val_loss: 0.2202\n",
            "Epoch 9/20\n",
            "13/13 - 0s - 6ms/step - accuracy: 0.9150 - loss: 0.2390 - val_accuracy: 0.9350 - val_loss: 0.2082\n",
            "Epoch 10/20\n",
            "13/13 - 0s - 12ms/step - accuracy: 0.9200 - loss: 0.2295 - val_accuracy: 0.9400 - val_loss: 0.1974\n",
            "Epoch 11/20\n",
            "13/13 - 0s - 8ms/step - accuracy: 0.9250 - loss: 0.2212 - val_accuracy: 0.9350 - val_loss: 0.1881\n",
            "Epoch 12/20\n",
            "13/13 - 0s - 5ms/step - accuracy: 0.9300 - loss: 0.2146 - val_accuracy: 0.9350 - val_loss: 0.1800\n",
            "Epoch 13/20\n",
            "13/13 - 0s - 6ms/step - accuracy: 0.9300 - loss: 0.2082 - val_accuracy: 0.9400 - val_loss: 0.1730\n",
            "Epoch 14/20\n",
            "13/13 - 0s - 4ms/step - accuracy: 0.9337 - loss: 0.2025 - val_accuracy: 0.9400 - val_loss: 0.1667\n",
            "Epoch 15/20\n",
            "13/13 - 0s - 12ms/step - accuracy: 0.9337 - loss: 0.1973 - val_accuracy: 0.9450 - val_loss: 0.1611\n",
            "Epoch 16/20\n",
            "13/13 - 0s - 10ms/step - accuracy: 0.9337 - loss: 0.1928 - val_accuracy: 0.9450 - val_loss: 0.1555\n",
            "Epoch 17/20\n",
            "13/13 - 0s - 9ms/step - accuracy: 0.9350 - loss: 0.1889 - val_accuracy: 0.9450 - val_loss: 0.1524\n",
            "Epoch 18/20\n",
            "13/13 - 0s - 11ms/step - accuracy: 0.9350 - loss: 0.1846 - val_accuracy: 0.9450 - val_loss: 0.1489\n",
            "Epoch 19/20\n",
            "13/13 - 0s - 6ms/step - accuracy: 0.9375 - loss: 0.1815 - val_accuracy: 0.9450 - val_loss: 0.1439\n",
            "Epoch 20/20\n",
            "13/13 - 0s - 9ms/step - accuracy: 0.9438 - loss: 0.1781 - val_accuracy: 0.9450 - val_loss: 0.1407\n",
            "\u001b[1m7/7\u001b[0m \u001b[32m━━━━━━━━━━━━━━━━━━━━\u001b[0m\u001b[37m\u001b[0m \u001b[1m0s\u001b[0m 43ms/step\n",
            "Epoch 1/20\n"
          ]
        },
        {
          "output_type": "stream",
          "name": "stderr",
          "text": [
            "/usr/local/lib/python3.10/dist-packages/keras/src/layers/core/dense.py:87: UserWarning: Do not pass an `input_shape`/`input_dim` argument to a layer. When using Sequential models, prefer using an `Input(shape)` object as the first layer in the model instead.\n",
            "  super().__init__(activity_regularizer=activity_regularizer, **kwargs)\n"
          ]
        },
        {
          "output_type": "stream",
          "name": "stdout",
          "text": [
            "13/13 - 3s - 264ms/step - accuracy: 0.5125 - loss: 0.6871 - val_accuracy: 0.6500 - val_loss: 0.5983\n",
            "Epoch 2/20\n",
            "13/13 - 0s - 8ms/step - accuracy: 0.7850 - loss: 0.5157 - val_accuracy: 0.8100 - val_loss: 0.4915\n",
            "Epoch 3/20\n",
            "13/13 - 0s - 8ms/step - accuracy: 0.8838 - loss: 0.4119 - val_accuracy: 0.8300 - val_loss: 0.4284\n",
            "Epoch 4/20\n",
            "13/13 - 0s - 12ms/step - accuracy: 0.9112 - loss: 0.3452 - val_accuracy: 0.8400 - val_loss: 0.3886\n",
            "Epoch 5/20\n",
            "13/13 - 0s - 8ms/step - accuracy: 0.9237 - loss: 0.3008 - val_accuracy: 0.8650 - val_loss: 0.3607\n",
            "Epoch 6/20\n",
            "13/13 - 0s - 4ms/step - accuracy: 0.9262 - loss: 0.2701 - val_accuracy: 0.8950 - val_loss: 0.3402\n",
            "Epoch 7/20\n",
            "13/13 - 0s - 5ms/step - accuracy: 0.9300 - loss: 0.2458 - val_accuracy: 0.9050 - val_loss: 0.3241\n",
            "Epoch 8/20\n",
            "13/13 - 0s - 6ms/step - accuracy: 0.9350 - loss: 0.2283 - val_accuracy: 0.9050 - val_loss: 0.3125\n",
            "Epoch 9/20\n",
            "13/13 - 0s - 4ms/step - accuracy: 0.9388 - loss: 0.2132 - val_accuracy: 0.9100 - val_loss: 0.3011\n",
            "Epoch 10/20\n",
            "13/13 - 0s - 10ms/step - accuracy: 0.9438 - loss: 0.2019 - val_accuracy: 0.9100 - val_loss: 0.2944\n",
            "Epoch 11/20\n",
            "13/13 - 0s - 12ms/step - accuracy: 0.9450 - loss: 0.1919 - val_accuracy: 0.9100 - val_loss: 0.2885\n",
            "Epoch 12/20\n",
            "13/13 - 0s - 11ms/step - accuracy: 0.9463 - loss: 0.1837 - val_accuracy: 0.9100 - val_loss: 0.2814\n",
            "Epoch 13/20\n",
            "13/13 - 0s - 10ms/step - accuracy: 0.9475 - loss: 0.1766 - val_accuracy: 0.9100 - val_loss: 0.2767\n",
            "Epoch 14/20\n",
            "13/13 - 0s - 5ms/step - accuracy: 0.9488 - loss: 0.1700 - val_accuracy: 0.9150 - val_loss: 0.2755\n",
            "Epoch 15/20\n",
            "13/13 - 0s - 5ms/step - accuracy: 0.9488 - loss: 0.1649 - val_accuracy: 0.9100 - val_loss: 0.2717\n",
            "Epoch 16/20\n",
            "13/13 - 0s - 6ms/step - accuracy: 0.9513 - loss: 0.1598 - val_accuracy: 0.9100 - val_loss: 0.2677\n",
            "Epoch 17/20\n",
            "13/13 - 0s - 5ms/step - accuracy: 0.9550 - loss: 0.1559 - val_accuracy: 0.9200 - val_loss: 0.2638\n",
            "Epoch 18/20\n",
            "13/13 - 0s - 5ms/step - accuracy: 0.9550 - loss: 0.1521 - val_accuracy: 0.9150 - val_loss: 0.2652\n",
            "Epoch 19/20\n",
            "13/13 - 0s - 6ms/step - accuracy: 0.9575 - loss: 0.1483 - val_accuracy: 0.9150 - val_loss: 0.2621\n",
            "Epoch 20/20\n",
            "13/13 - 0s - 4ms/step - accuracy: 0.9563 - loss: 0.1449 - val_accuracy: 0.9150 - val_loss: 0.2603\n",
            "\u001b[1m7/7\u001b[0m \u001b[32m━━━━━━━━━━━━━━━━━━━━\u001b[0m\u001b[37m\u001b[0m \u001b[1m0s\u001b[0m 17ms/step\n",
            "Epoch 1/20\n"
          ]
        },
        {
          "output_type": "stream",
          "name": "stderr",
          "text": [
            "/usr/local/lib/python3.10/dist-packages/keras/src/layers/core/dense.py:87: UserWarning: Do not pass an `input_shape`/`input_dim` argument to a layer. When using Sequential models, prefer using an `Input(shape)` object as the first layer in the model instead.\n",
            "  super().__init__(activity_regularizer=activity_regularizer, **kwargs)\n"
          ]
        },
        {
          "output_type": "stream",
          "name": "stdout",
          "text": [
            "13/13 - 2s - 156ms/step - accuracy: 0.3713 - loss: 0.9486 - val_accuracy: 0.4050 - val_loss: 0.8536\n",
            "Epoch 2/20\n",
            "13/13 - 0s - 6ms/step - accuracy: 0.6112 - loss: 0.6712 - val_accuracy: 0.7200 - val_loss: 0.6002\n",
            "Epoch 3/20\n",
            "13/13 - 0s - 10ms/step - accuracy: 0.8138 - loss: 0.4984 - val_accuracy: 0.8250 - val_loss: 0.4627\n",
            "Epoch 4/20\n",
            "13/13 - 0s - 5ms/step - accuracy: 0.8775 - loss: 0.4051 - val_accuracy: 0.8700 - val_loss: 0.3834\n",
            "Epoch 5/20\n",
            "13/13 - 0s - 4ms/step - accuracy: 0.8975 - loss: 0.3479 - val_accuracy: 0.8950 - val_loss: 0.3344\n",
            "Epoch 6/20\n",
            "13/13 - 0s - 6ms/step - accuracy: 0.9062 - loss: 0.3108 - val_accuracy: 0.9150 - val_loss: 0.3008\n",
            "Epoch 7/20\n",
            "13/13 - 0s - 9ms/step - accuracy: 0.9150 - loss: 0.2841 - val_accuracy: 0.9150 - val_loss: 0.2760\n",
            "Epoch 8/20\n",
            "13/13 - 0s - 10ms/step - accuracy: 0.9162 - loss: 0.2639 - val_accuracy: 0.9200 - val_loss: 0.2582\n",
            "Epoch 9/20\n",
            "13/13 - 0s - 5ms/step - accuracy: 0.9212 - loss: 0.2477 - val_accuracy: 0.9200 - val_loss: 0.2450\n",
            "Epoch 10/20\n",
            "13/13 - 0s - 10ms/step - accuracy: 0.9250 - loss: 0.2357 - val_accuracy: 0.9250 - val_loss: 0.2323\n",
            "Epoch 11/20\n",
            "13/13 - 0s - 5ms/step - accuracy: 0.9300 - loss: 0.2248 - val_accuracy: 0.9300 - val_loss: 0.2226\n",
            "Epoch 12/20\n",
            "13/13 - 0s - 4ms/step - accuracy: 0.9325 - loss: 0.2159 - val_accuracy: 0.9300 - val_loss: 0.2138\n",
            "Epoch 13/20\n",
            "13/13 - 0s - 5ms/step - accuracy: 0.9362 - loss: 0.2077 - val_accuracy: 0.9300 - val_loss: 0.2056\n",
            "Epoch 14/20\n",
            "13/13 - 0s - 5ms/step - accuracy: 0.9388 - loss: 0.2014 - val_accuracy: 0.9350 - val_loss: 0.1990\n",
            "Epoch 15/20\n",
            "13/13 - 0s - 5ms/step - accuracy: 0.9400 - loss: 0.1954 - val_accuracy: 0.9450 - val_loss: 0.1929\n",
            "Epoch 16/20\n",
            "13/13 - 0s - 6ms/step - accuracy: 0.9425 - loss: 0.1901 - val_accuracy: 0.9450 - val_loss: 0.1881\n",
            "Epoch 17/20\n",
            "13/13 - 0s - 10ms/step - accuracy: 0.9475 - loss: 0.1855 - val_accuracy: 0.9450 - val_loss: 0.1827\n",
            "Epoch 18/20\n",
            "13/13 - 0s - 12ms/step - accuracy: 0.9475 - loss: 0.1813 - val_accuracy: 0.9500 - val_loss: 0.1795\n",
            "Epoch 19/20\n",
            "13/13 - 0s - 10ms/step - accuracy: 0.9475 - loss: 0.1778 - val_accuracy: 0.9500 - val_loss: 0.1751\n",
            "Epoch 20/20\n",
            "13/13 - 0s - 10ms/step - accuracy: 0.9475 - loss: 0.1742 - val_accuracy: 0.9500 - val_loss: 0.1744\n",
            "\u001b[1m7/7\u001b[0m \u001b[32m━━━━━━━━━━━━━━━━━━━━\u001b[0m\u001b[37m\u001b[0m \u001b[1m0s\u001b[0m 17ms/step\n"
          ]
        }
      ]
    },
    {
      "cell_type": "code",
      "source": [
        "acc_total\n"
      ],
      "metadata": {
        "colab": {
          "base_uri": "https://localhost:8080/"
        },
        "id": "a4Rd8cQFaaQW",
        "outputId": "6e93ed3f-50d6-4c5b-86d4-c36ab174d42d"
      },
      "execution_count": null,
      "outputs": [
        {
          "output_type": "execute_result",
          "data": {
            "text/plain": [
              "[0.965, 0.935, 0.945, 0.915, 0.95]"
            ]
          },
          "metadata": {},
          "execution_count": 42
        }
      ]
    },
    {
      "cell_type": "code",
      "source": [
        "import numpy as np\n",
        "np.mean(acc_total)"
      ],
      "metadata": {
        "colab": {
          "base_uri": "https://localhost:8080/"
        },
        "id": "jfXAkUmkcgoh",
        "outputId": "af142bc6-dda8-4a0c-b767-0233027edb47"
      },
      "execution_count": null,
      "outputs": [
        {
          "output_type": "execute_result",
          "data": {
            "text/plain": [
              "0.942"
            ]
          },
          "metadata": {},
          "execution_count": 43
        }
      ]
    },
    {
      "cell_type": "code",
      "source": [],
      "metadata": {
        "id": "217jJE7aclLY"
      },
      "execution_count": null,
      "outputs": []
    }
  ]
}